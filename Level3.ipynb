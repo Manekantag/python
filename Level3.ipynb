{
  "nbformat": 4,
  "nbformat_minor": 0,
  "metadata": {
    "colab": {
      "provenance": [],
      "authorship_tag": "ABX9TyNnq/8HC+u1SINbOAaEaILj",
      "include_colab_link": true
    },
    "kernelspec": {
      "name": "python3",
      "display_name": "Python 3"
    },
    "language_info": {
      "name": "python"
    }
  },
  "cells": [
    {
      "cell_type": "markdown",
      "metadata": {
        "id": "view-in-github",
        "colab_type": "text"
      },
      "source": [
        "<a href=\"https://colab.research.google.com/github/Manekantag/python/blob/main/Level3.ipynb\" target=\"_parent\"><img src=\"https://colab.research.google.com/assets/colab-badge.svg\" alt=\"Open In Colab\"/></a>"
      ]
    },
    {
      "cell_type": "code",
      "execution_count": 2,
      "metadata": {
        "colab": {
          "base_uri": "https://localhost:8080/"
        },
        "id": "9Y9t5ro6lccB",
        "outputId": "46dfcc73-d5db-4b17-a5f3-f5b3d1378226"
      },
      "outputs": [
        {
          "output_type": "stream",
          "name": "stdout",
          "text": [
            "46.4\n",
            "90.8\n"
          ]
        }
      ],
      "source": [
        "#Level3\n",
        "age=44.4\n",
        "print(age+1*2)\n",
        "print((age+1)*2)"
      ]
    },
    {
      "cell_type": "code",
      "source": [
        "print(age**2)"
      ],
      "metadata": {
        "colab": {
          "base_uri": "https://localhost:8080/"
        },
        "id": "5BbPVazSmJaC",
        "outputId": "4956f549-521e-4aa4-b538-67e473c98c34"
      },
      "execution_count": 3,
      "outputs": [
        {
          "output_type": "stream",
          "name": "stdout",
          "text": [
            "1971.36\n"
          ]
        }
      ]
    },
    {
      "cell_type": "code",
      "source": [
        "Ahsoka_heigh=1.70\n",
        "Yoda_height=0.66\n",
        "R2D2_height=1.09\n",
        "C3P0_height=1.75\n",
        "average_height=(Ahsoka_heigh+Yoda_height+R2D2_height+C3P0_height)/4\n",
        "print(average_height)"
      ],
      "metadata": {
        "colab": {
          "base_uri": "https://localhost:8080/"
        },
        "id": "ePhvpxkpmk8j",
        "outputId": "0c25d220-0612-46ff-fa0b-76bfd4084eb4"
      },
      "execution_count": 4,
      "outputs": [
        {
          "output_type": "stream",
          "name": "stdout",
          "text": [
            "1.3\n"
          ]
        }
      ]
    },
    {
      "cell_type": "code",
      "source": [
        "#concatination\n",
        "name=\"Yoda\"\n",
        "print(\"Your name is \"+name)\n",
        "height=0.66\n",
        "age=900\n",
        "print(\"Your name is \"+name+\" and you are \"+age+\" years old\")  #ERROR"
      ],
      "metadata": {
        "colab": {
          "base_uri": "https://localhost:8080/",
          "height": 193
        },
        "id": "hLL4uB_DnUeH",
        "outputId": "a6977916-10f3-441b-d2ae-c93c40b9b535"
      },
      "execution_count": 6,
      "outputs": [
        {
          "output_type": "stream",
          "name": "stdout",
          "text": [
            "Your name is Yoda\n"
          ]
        },
        {
          "output_type": "error",
          "ename": "TypeError",
          "evalue": "can only concatenate str (not \"int\") to str",
          "traceback": [
            "\u001b[0;31m---------------------------------------------------------------------------\u001b[0m",
            "\u001b[0;31mTypeError\u001b[0m                                 Traceback (most recent call last)",
            "\u001b[0;32m<ipython-input-6-d3a2ac93f509>\u001b[0m in \u001b[0;36m<cell line: 0>\u001b[0;34m()\u001b[0m\n\u001b[1;32m      4\u001b[0m \u001b[0mheight\u001b[0m\u001b[0;34m=\u001b[0m\u001b[0;36m0.66\u001b[0m\u001b[0;34m\u001b[0m\u001b[0;34m\u001b[0m\u001b[0m\n\u001b[1;32m      5\u001b[0m \u001b[0mage\u001b[0m\u001b[0;34m=\u001b[0m\u001b[0;36m900\u001b[0m\u001b[0;34m\u001b[0m\u001b[0;34m\u001b[0m\u001b[0m\n\u001b[0;32m----> 6\u001b[0;31m \u001b[0mprint\u001b[0m\u001b[0;34m(\u001b[0m\u001b[0;34m\"Your name is \"\u001b[0m\u001b[0;34m+\u001b[0m\u001b[0mname\u001b[0m\u001b[0;34m+\u001b[0m\u001b[0;34m\" and you are \"\u001b[0m\u001b[0;34m+\u001b[0m\u001b[0mage\u001b[0m\u001b[0;34m+\u001b[0m\u001b[0;34m\" years old\"\u001b[0m\u001b[0;34m)\u001b[0m  \u001b[0;31m#ERROR\u001b[0m\u001b[0;34m\u001b[0m\u001b[0;34m\u001b[0m\u001b[0m\n\u001b[0m",
            "\u001b[0;31mTypeError\u001b[0m: can only concatenate str (not \"int\") to str"
          ]
        }
      ]
    },
    {
      "cell_type": "code",
      "source": [
        "print(type(age))\n",
        "print(type(name))\n",
        "print(type(height))"
      ],
      "metadata": {
        "colab": {
          "base_uri": "https://localhost:8080/"
        },
        "id": "WxpBeAdOn-ai",
        "outputId": "0c10b2a2-6b52-49e4-ae8d-1b6af5fe9e11"
      },
      "execution_count": 7,
      "outputs": [
        {
          "output_type": "stream",
          "name": "stdout",
          "text": [
            "<class 'int'>\n",
            "<class 'str'>\n",
            "<class 'float'>\n"
          ]
        }
      ]
    },
    {
      "cell_type": "code",
      "source": [
        "#concatinating the need only strings .. if others we need to convert them\n",
        "print(\"Your name is \"+name+\" and you are \"+str(age)+\" years old\"+\"and Your height is \"+str(height))"
      ],
      "metadata": {
        "colab": {
          "base_uri": "https://localhost:8080/"
        },
        "id": "F1-FoaOZoEWh",
        "outputId": "f505a6b4-78fc-4053-966f-920f81dbdec9"
      },
      "execution_count": 8,
      "outputs": [
        {
          "output_type": "stream",
          "name": "stdout",
          "text": [
            "Your name is Yoda and you are 900 years oldand Your height is 0.66\n"
          ]
        }
      ]
    },
    {
      "cell_type": "code",
      "source": [
        "name=\"Yoda\"\n",
        "print(\"Your name is\"+name)\n",
        "#concatination adds up without spaces"
      ],
      "metadata": {
        "colab": {
          "base_uri": "https://localhost:8080/"
        },
        "id": "zBgkadpcoe6K",
        "outputId": "7abc926f-1f68-44f2-c77f-4534a7d3c811"
      },
      "execution_count": 10,
      "outputs": [
        {
          "output_type": "stream",
          "name": "stdout",
          "text": [
            "Your name isYoda\n"
          ]
        }
      ]
    },
    {
      "cell_type": "code",
      "source": [
        "name1=\"Jack\"\n",
        "name2=\"Rose\"\n",
        "year=1912\n",
        "print(name1+\" and \"+name2+\" were on the Titanic in \"+str(year))"
      ],
      "metadata": {
        "colab": {
          "base_uri": "https://localhost:8080/"
        },
        "id": "OLp-fA1bo3VT",
        "outputId": "5c97e5c9-409f-45a5-fb24-e270cd6cf028"
      },
      "execution_count": 11,
      "outputs": [
        {
          "output_type": "stream",
          "name": "stdout",
          "text": [
            "Jack and Rose were on the Titanic in 1912\n"
          ]
        }
      ]
    },
    {
      "cell_type": "markdown",
      "source": [
        "# Level 3 Final Exercise: Simple Interest Calculator for a Savings Account\n",
        "\n",
        "## Objective\n",
        "You are an intern at a bank and you have been tasked to create a simple program to calculate the interest that customers will earn on their savings account. The interest is calculated yearly using the simple interest formula:\n",
        "\n",
        "![](https://i.ibb.co/sgZG3Md/Screenshot-2023-10-18-at-12-41-43.png)\n",
        "\n",
        "## Instructions\n",
        "\n",
        "1. Create a variable named `principal` and assign it the value of 1000 (This is the initial amount in USD).\n",
        "2. Create a variable named `rate` and assign it the value of 5 (Annual interest rate in percentage).\n",
        "3. Create a variable named `time` and assign it the value of 2 (Time in years).\n",
        "4. Calculate the simple interest using the formula above. Store the result in a variable named `interest`.\n",
        "5. Print the interest amount rounded to 2 decimal places along with a message. The message should include the `principal`, `rate`, `time`, and `interest` variables.\n"
      ],
      "metadata": {
        "id": "RRj7bMGBTJvV"
      }
    },
    {
      "cell_type": "code",
      "source": [
        "# Your code starts here\n",
        "\n",
        "# Step 1: Initialize principal amount\n",
        "principal=1000\n",
        "# Step 2: Initialize annual interest rate\n",
        "rate=5\n",
        "# Step 3: Initialize time in years\n",
        "time=2\n",
        "# Step 4: Calculate Simple Interest\n",
        "interest=(principal*time*rate)/100;\n",
        "# Step 5: Print the calculated interest\n",
        "print(\"With a principal amount of \"+str(principal)+\" USD, at an annual interest rate of \"+str(rate)+\"%, in \"+str(time)+\" years you will earn \"+str(interest)+\" USD in interest.\")\n",
        "# Make sure to include principal, rate, time, and interest in your print statement\n",
        "\n",
        "# Your code ends here"
      ],
      "metadata": {
        "id": "jBkVQIZMTJeI",
        "colab": {
          "base_uri": "https://localhost:8080/"
        },
        "outputId": "fb04e3ad-635c-44e5-b667-bed07f5bc31e"
      },
      "execution_count": 12,
      "outputs": [
        {
          "output_type": "stream",
          "name": "stdout",
          "text": [
            "With a principal amount of 1000 USD, at an annual interest rate of 5%, in 2 years you will earn 100.0 USD in interest.\n"
          ]
        }
      ]
    },
    {
      "cell_type": "markdown",
      "source": [
        "\n",
        "## Expected Output\n",
        "Your program should print a message like the following:\n",
        "\n",
        "```\n",
        "With a principal amount of 1000 USD, at an annual interest rate of 5%, in 2 years you will earn 100.0 USD in interest.\n",
        "```"
      ],
      "metadata": {
        "id": "nhfA-5WuTQLu"
      }
    }
  ]
}