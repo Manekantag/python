{
  "nbformat": 4,
  "nbformat_minor": 0,
  "metadata": {
    "colab": {
      "provenance": [],
      "authorship_tag": "ABX9TyOgggjCzS+jQRtEqOaU0l2M",
      "include_colab_link": true
    },
    "kernelspec": {
      "name": "python3",
      "display_name": "Python 3"
    },
    "language_info": {
      "name": "python"
    }
  },
  "cells": [
    {
      "cell_type": "markdown",
      "metadata": {
        "id": "view-in-github",
        "colab_type": "text"
      },
      "source": [
        "<a href=\"https://colab.research.google.com/github/Manekantag/python/blob/main/Level3.ipynb\" target=\"_parent\"><img src=\"https://colab.research.google.com/assets/colab-badge.svg\" alt=\"Open In Colab\"/></a>"
      ]
    },
    {
      "cell_type": "code",
      "execution_count": 2,
      "metadata": {
        "colab": {
          "base_uri": "https://localhost:8080/"
        },
        "id": "9Y9t5ro6lccB",
        "outputId": "46dfcc73-d5db-4b17-a5f3-f5b3d1378226"
      },
      "outputs": [
        {
          "output_type": "stream",
          "name": "stdout",
          "text": [
            "46.4\n",
            "90.8\n"
          ]
        }
      ],
      "source": [
        "#Level3\n",
        "age=44.4\n",
        "print(age+1*2)\n",
        "print((age+1)*2)"
      ]
    },
    {
      "cell_type": "code",
      "source": [
        "print(age**2)"
      ],
      "metadata": {
        "colab": {
          "base_uri": "https://localhost:8080/"
        },
        "id": "5BbPVazSmJaC",
        "outputId": "4956f549-521e-4aa4-b538-67e473c98c34"
      },
      "execution_count": 3,
      "outputs": [
        {
          "output_type": "stream",
          "name": "stdout",
          "text": [
            "1971.36\n"
          ]
        }
      ]
    }
  ]
}