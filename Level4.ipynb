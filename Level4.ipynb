{
  "nbformat": 4,
  "nbformat_minor": 0,
  "metadata": {
    "colab": {
      "provenance": [],
      "authorship_tag": "ABX9TyMNforpXtNPqPtuRYG0vsHK",
      "include_colab_link": true
    },
    "kernelspec": {
      "name": "python3",
      "display_name": "Python 3"
    },
    "language_info": {
      "name": "python"
    }
  },
  "cells": [
    {
      "cell_type": "markdown",
      "metadata": {
        "id": "view-in-github",
        "colab_type": "text"
      },
      "source": [
        "<a href=\"https://colab.research.google.com/github/Manekantag/python/blob/main/Level4.ipynb\" target=\"_parent\"><img src=\"https://colab.research.google.com/assets/colab-badge.svg\" alt=\"Open In Colab\"/></a>"
      ]
    },
    {
      "cell_type": "code",
      "execution_count": 1,
      "metadata": {
        "colab": {
          "base_uri": "https://localhost:8080/"
        },
        "id": "3K0pAekM3PXF",
        "outputId": "e0eab69c-c399-41d1-8a8e-860ecb4998b3"
      },
      "outputs": [
        {
          "output_type": "stream",
          "name": "stdout",
          "text": [
            "1\n",
            "3\n"
          ]
        }
      ],
      "source": [
        "#Level4\n",
        "#builtin functions\n",
        "a=1\n",
        "b=2\n",
        "c=3\n",
        "#a,b,c = 1,2,3   short cut way to declare variables\n",
        "minimum_value=min(a,b,c)\n",
        "print(minimum_value)\n",
        "maximum_value=max(a,b,c)\n",
        "print(maximum_value)\n",
        "print(max(a,b,c))\n",
        "#short cut way\n",
        "\n"
      ]
    },
    {
      "cell_type": "code",
      "source": [
        "a=-7.6\n",
        "print(abs(a))"
      ],
      "metadata": {
        "colab": {
          "base_uri": "https://localhost:8080/"
        },
        "id": "5DWeJMVf4kUD",
        "outputId": "097be6b2-f059-4cb3-9b9b-6f35ac4ef0a5"
      },
      "execution_count": 3,
      "outputs": [
        {
          "output_type": "stream",
          "name": "stdout",
          "text": [
            "7.6\n"
          ]
        }
      ]
    },
    {
      "cell_type": "code",
      "source": [
        "a=-7.4\n",
        "print(round(a))"
      ],
      "metadata": {
        "colab": {
          "base_uri": "https://localhost:8080/"
        },
        "id": "tPRh78Q34vma",
        "outputId": "115aa340-f444-4867-ba3e-1a9f47de58c1"
      },
      "execution_count": 6,
      "outputs": [
        {
          "output_type": "stream",
          "name": "stdout",
          "text": [
            "-8\n"
          ]
        }
      ]
    },
    {
      "cell_type": "code",
      "source": [
        "Ahsoka=1.70\n",
        "Yoda=0.66\n",
        "R2D2=1.09\n",
        "print(\"The average height is\"+avg(Ahsoka,Yoda,R2D2)+\". The maximum height is \"+max(Ahsoka,Yoda,R2D2)+\". The minimum height is \"+min(Ahsoka,Yoda,R2D2)+\".\")"
      ],
      "metadata": {
        "colab": {
          "base_uri": "https://localhost:8080/",
          "height": 193
        },
        "id": "yl7CoGAG5FvS",
        "outputId": "b98836da-84ff-4a2d-c858-4de741907feb"
      },
      "execution_count": 7,
      "outputs": [
        {
          "output_type": "error",
          "ename": "NameError",
          "evalue": "name 'avg' is not defined",
          "traceback": [
            "\u001b[0;31m---------------------------------------------------------------------------\u001b[0m",
            "\u001b[0;31mNameError\u001b[0m                                 Traceback (most recent call last)",
            "\u001b[0;32m<ipython-input-7-f52aab63141d>\u001b[0m in \u001b[0;36m<cell line: 0>\u001b[0;34m()\u001b[0m\n\u001b[1;32m      2\u001b[0m \u001b[0mYoda\u001b[0m\u001b[0;34m=\u001b[0m\u001b[0;36m0.66\u001b[0m\u001b[0;34m\u001b[0m\u001b[0;34m\u001b[0m\u001b[0m\n\u001b[1;32m      3\u001b[0m \u001b[0mR2D2\u001b[0m\u001b[0;34m=\u001b[0m\u001b[0;36m1.09\u001b[0m\u001b[0;34m\u001b[0m\u001b[0;34m\u001b[0m\u001b[0m\n\u001b[0;32m----> 4\u001b[0;31m \u001b[0mprint\u001b[0m\u001b[0;34m(\u001b[0m\u001b[0;34m\"The average height is\"\u001b[0m\u001b[0;34m+\u001b[0m\u001b[0mavg\u001b[0m\u001b[0;34m(\u001b[0m\u001b[0mAhsoka\u001b[0m\u001b[0;34m,\u001b[0m\u001b[0mYoda\u001b[0m\u001b[0;34m,\u001b[0m\u001b[0mR2D2\u001b[0m\u001b[0;34m)\u001b[0m\u001b[0;34m+\u001b[0m\u001b[0;34m\". The maximum height is \"\u001b[0m\u001b[0;34m+\u001b[0m\u001b[0mmax\u001b[0m\u001b[0;34m(\u001b[0m\u001b[0mAhsoka\u001b[0m\u001b[0;34m,\u001b[0m\u001b[0mYoda\u001b[0m\u001b[0;34m,\u001b[0m\u001b[0mR2D2\u001b[0m\u001b[0;34m)\u001b[0m\u001b[0;34m+\u001b[0m\u001b[0;34m\". The minimum height is \"\u001b[0m\u001b[0;34m+\u001b[0m\u001b[0mmin\u001b[0m\u001b[0;34m(\u001b[0m\u001b[0mAhsoka\u001b[0m\u001b[0;34m,\u001b[0m\u001b[0mYoda\u001b[0m\u001b[0;34m,\u001b[0m\u001b[0mR2D2\u001b[0m\u001b[0;34m)\u001b[0m\u001b[0;34m+\u001b[0m\u001b[0;34m\".\"\u001b[0m\u001b[0;34m)\u001b[0m\u001b[0;34m\u001b[0m\u001b[0;34m\u001b[0m\u001b[0m\n\u001b[0m",
            "\u001b[0;31mNameError\u001b[0m: name 'avg' is not defined"
          ]
        }
      ]
    },
    {
      "cell_type": "code",
      "source": [
        "Ahsoka=1.70\n",
        "Yoda=0.66\n",
        "R2D2=1.09\n",
        "average=(Ahsoka+Yoda+R2D2)/3\n",
        "#print(\"The average height is\",average,\". The maximum height is \",max(Ahsoka,Yoda,R2D2),\". The minimum height is \",min(Ahsoka,Yoda,R2D2),\".\")\n",
        "print(\"the average height is\"+str(average)+\". The maximum height is \"+str(max(Ahsoka,Yoda,R2D2))+\". The minimum height is \"+str(min(Ahsoka,Yoda,R2D2)))"
      ],
      "metadata": {
        "colab": {
          "base_uri": "https://localhost:8080/"
        },
        "id": "8CAQwBvm5rJW",
        "outputId": "178e8d60-4fc7-41b4-c94b-980f7d3d5786"
      },
      "execution_count": 13,
      "outputs": [
        {
          "output_type": "stream",
          "name": "stdout",
          "text": [
            "the average height is1.1500000000000001. The maximum height is 1.7. The minimum height is 0.66\n"
          ]
        }
      ]
    },
    {
      "cell_type": "code",
      "source": [],
      "metadata": {
        "id": "45l-7kd56Gkm"
      },
      "execution_count": null,
      "outputs": []
    },
    {
      "cell_type": "code",
      "source": [
        "#input - interactes with user\n",
        "name=input(\"What is your name? \")\n",
        "print(\"your name is \"+name)\n"
      ],
      "metadata": {
        "colab": {
          "base_uri": "https://localhost:8080/"
        },
        "id": "vp-MTKW66zDr",
        "outputId": "949ccde1-47ae-49cb-dbad-bee0509ba098"
      },
      "execution_count": 16,
      "outputs": [
        {
          "output_type": "stream",
          "name": "stdout",
          "text": [
            "What is your name? sneha\n",
            "your name is sneha\n"
          ]
        }
      ]
    },
    {
      "cell_type": "code",
      "source": [
        "name=input(\"what is your name? \")\n",
        "height=input(\"what is your height? \")\n",
        "age=input(\"what is your age? \")\n",
        "print(\"Your name , height and age is : \"+name+\",\"+height+\"and\"+age+\" respectively.\")\n",
        "# we aint get any error because we may enter the different values\n",
        "# but the input take them as a string .. so problem in concatination"
      ],
      "metadata": {
        "colab": {
          "base_uri": "https://localhost:8080/"
        },
        "id": "Lgtiz5Y67NLH",
        "outputId": "dda35f6f-6335-4f99-aad9-a5e705fcea15"
      },
      "execution_count": 17,
      "outputs": [
        {
          "output_type": "stream",
          "name": "stdout",
          "text": [
            "what is your name?sneha\n",
            "what is your height?5feet\n",
            "what is your age?21\n",
            "Your name , height and age is : sneha,5feetand21 respectively.\n"
          ]
        }
      ]
    },
    {
      "cell_type": "code",
      "source": [
        "name=input(\"what is your name ? \")\n",
        "age=input(\"what is your age ? \")\n",
        "print(\"Your name is \"+name+\"Your age is \"+age+\".\")"
      ],
      "metadata": {
        "colab": {
          "base_uri": "https://localhost:8080/"
        },
        "id": "cEtv06DA8EMA",
        "outputId": "4a1a7fe5-b6a5-4005-b95c-63cf97422108"
      },
      "execution_count": 18,
      "outputs": [
        {
          "output_type": "stream",
          "name": "stdout",
          "text": [
            "what is your name ?sneha\n",
            "what is your age ?21\n",
            "Your name is snehaYour age is 21.\n"
          ]
        }
      ]
    },
    {
      "cell_type": "code",
      "source": [
        "#custom functions\n",
        "def your_name_function():\n",
        "    your_name=input(\"what is your name? \")\n",
        "    print(\"your name is \"+your_name)\n",
        "\n",
        "your_name_function()"
      ],
      "metadata": {
        "colab": {
          "base_uri": "https://localhost:8080/"
        },
        "id": "s1I-DlpB8eRo",
        "outputId": "9dc30d95-6b20-416f-ca8a-cbb051c4cd55"
      },
      "execution_count": 19,
      "outputs": [
        {
          "output_type": "stream",
          "name": "stdout",
          "text": [
            "what is your name? sneha\n",
            "your name is sneha\n"
          ]
        }
      ]
    },
    {
      "cell_type": "code",
      "source": [
        "def age_of_rey():\n",
        "  age=input(\"How old is Rey? \")\n",
        "  print(\"Rey's age is \"+age)\n",
        "age_of_rey()"
      ],
      "metadata": {
        "colab": {
          "base_uri": "https://localhost:8080/"
        },
        "id": "1moDn9v09qNM",
        "outputId": "5ec29a17-3a01-4059-dd39-dd72fde72cce"
      },
      "execution_count": 20,
      "outputs": [
        {
          "output_type": "stream",
          "name": "stdout",
          "text": [
            "How old is Rey?19\n",
            "Rey's age is 19\n"
          ]
        }
      ]
    },
    {
      "cell_type": "code",
      "source": [
        "#passing parameters\n",
        "name=input(\"what is your name? \")\n",
        "age=input(\"what is \"+name+\"'s age? \")\n",
        "def age_in_one_year(name,age):\n",
        "  age_next_year=int(age)+1\n",
        "  print(name+\" will be \"+str(age_next_year)+\" in one year.\")\n",
        "age_in_one_year(name,age)\n",
        "\n"
      ],
      "metadata": {
        "colab": {
          "base_uri": "https://localhost:8080/"
        },
        "id": "fRkqTCcV-Ttu",
        "outputId": "892e85d6-2764-4cea-8cd7-b7704037bea5"
      },
      "execution_count": 21,
      "outputs": [
        {
          "output_type": "stream",
          "name": "stdout",
          "text": [
            "what is your name? Mani\n",
            "what is Mani's age? 21\n",
            "Mani will be 22 in one year.\n"
          ]
        }
      ]
    },
    {
      "cell_type": "code",
      "source": [
        "def titanic():\n",
        "  names=input(\"who was on the Titanic ? \")\n",
        "  year=int(input(\"what year is it currently ? \"))\n",
        "  print(names+\" were on the Titanic , which sunk \"+str(year-1912)+\"* years ago \")\n",
        "\n",
        "titanic()\n"
      ],
      "metadata": {
        "colab": {
          "base_uri": "https://localhost:8080/"
        },
        "id": "0J6JeHfH_V42",
        "outputId": "6845cb83-52fa-445f-ba90-9eb22cf60954"
      },
      "execution_count": 22,
      "outputs": [
        {
          "output_type": "stream",
          "name": "stdout",
          "text": [
            "who was on the Titanic ? Jack anf Rose\n",
            "what year is it currently ? 2025\n",
            "Jack anf Rosewere on the Titanic , which sunk 113* years ago \n"
          ]
        }
      ]
    },
    {
      "cell_type": "code",
      "source": [
        "#with parameters\n",
        "names=input(\"who was on the Titanic ? \")\n",
        "year=int(input(\"what year is it currently ? \"))\n",
        "\n",
        "def titanic(names,year):\n",
        "  print(names+\" were on the Titanic , which sunk \"+str(year-1912)+\"* years ago \")\n",
        "\n",
        "titanic(names,year)\n",
        "\n"
      ],
      "metadata": {
        "colab": {
          "base_uri": "https://localhost:8080/"
        },
        "id": "DSYSKAYQAlda",
        "outputId": "7681ce40-d12e-4120-bc06-245d51680f51"
      },
      "execution_count": 23,
      "outputs": [
        {
          "output_type": "stream",
          "name": "stdout",
          "text": [
            "who was on the Titanic ? Jack and Rose\n",
            "what year is it currently ? 2025\n",
            "Jack and Rose were on the Titanic , which sunk 113* years ago \n"
          ]
        }
      ]
    },
    {
      "cell_type": "code",
      "source": [
        "#14 video running"
      ],
      "metadata": {
        "id": "tIwxbqurBH4A"
      },
      "execution_count": null,
      "outputs": []
    }
  ]
}