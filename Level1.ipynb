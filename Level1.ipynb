{
  "nbformat": 4,
  "nbformat_minor": 0,
  "metadata": {
    "colab": {
      "provenance": [],
      "authorship_tag": "ABX9TyNYU3AYltUYcsehrMD197Eh",
      "include_colab_link": true
    },
    "kernelspec": {
      "name": "python3",
      "display_name": "Python 3"
    },
    "language_info": {
      "name": "python"
    }
  },
  "cells": [
    {
      "cell_type": "markdown",
      "metadata": {
        "id": "view-in-github",
        "colab_type": "text"
      },
      "source": [
        "<a href=\"https://colab.research.google.com/github/Manekantag/python/blob/main/Level1.ipynb\" target=\"_parent\"><img src=\"https://colab.research.google.com/assets/colab-badge.svg\" alt=\"Open In Colab\"/></a>"
      ]
    },
    {
      "cell_type": "code",
      "execution_count": null,
      "metadata": {
        "colab": {
          "base_uri": "https://localhost:8080/"
        },
        "id": "pt21zTACfbyO",
        "outputId": "0d24c95e-4d4d-4379-d22a-8ffa99661f13"
      },
      "outputs": [
        {
          "output_type": "stream",
          "name": "stdout",
          "text": [
            "this is fun\n"
          ]
        }
      ],
      "source": [
        "#this is a comment\n",
        "print(\"this is fun\")"
      ]
    },
    {
      "cell_type": "code",
      "source": [
        "#this code prints hello world\n",
        "print(\"Hello world\")"
      ],
      "metadata": {
        "colab": {
          "base_uri": "https://localhost:8080/"
        },
        "id": "XLtmqUmsgxzS",
        "outputId": "fbf3defa-b30e-4058-a6c7-9478795609af"
      },
      "execution_count": null,
      "outputs": [
        {
          "output_type": "stream",
          "name": "stdout",
          "text": [
            "Hello world\n"
          ]
        }
      ]
    },
    {
      "cell_type": "code",
      "source": [
        "#level2"
      ],
      "metadata": {
        "id": "1lYdMOxEhRpd"
      },
      "execution_count": null,
      "outputs": []
    },
    {
      "cell_type": "code",
      "source": [
        "#This code definees a name and then prints it\n",
        "name=\"Mr. Skywalker\"\n",
        "name=str('Mr. skywalker')\n",
        "print(name)\n",
        "#name=int(\"Mr. skywalker\") ERROR\n",
        "age=44\n",
        "age=int(44)\n",
        "print(age)\n",
        "type(age) # u can write it n no.of times in code without print , but executes the last one\n",
        "#ctrl + enter is to run code"
      ],
      "metadata": {
        "id": "HQlIVakGjMAr",
        "colab": {
          "base_uri": "https://localhost:8080/"
        },
        "outputId": "6af8b31a-35b6-4804-ff5e-c94fab0757e6"
      },
      "execution_count": null,
      "outputs": [
        {
          "output_type": "stream",
          "name": "stdout",
          "text": [
            "Mr. skywalker\n",
            "44\n",
            "Mr. skywalker\n"
          ]
        },
        {
          "output_type": "execute_result",
          "data": {
            "text/plain": [
              "str"
            ]
          },
          "metadata": {},
          "execution_count": 18
        }
      ]
    },
    {
      "cell_type": "code",
      "source": [
        "name=\"Darth Vader\" #STR\n",
        "print(name)\n",
        "age=19 #int\n",
        "print(age)"
      ],
      "metadata": {
        "colab": {
          "base_uri": "https://localhost:8080/"
        },
        "id": "7FGH4fKTmgwm",
        "outputId": "a4cf0cfa-dacc-45d6-c60b-869d1f881954"
      },
      "execution_count": null,
      "outputs": [
        {
          "output_type": "stream",
          "name": "stdout",
          "text": [
            "Darth Vader\n",
            "19\n"
          ]
        }
      ]
    },
    {
      "cell_type": "code",
      "source": [
        "pi=3.14\n",
        "print(pi)\n",
        "type(pi)\n",
        "pi=int(3.14)\n",
        "print(type(pi))"
      ],
      "metadata": {
        "colab": {
          "base_uri": "https://localhost:8080/"
        },
        "id": "rFvkvtwdnGf4",
        "outputId": "542cc51f-5eab-4b14-f708-acc2df870550"
      },
      "execution_count": null,
      "outputs": [
        {
          "output_type": "stream",
          "name": "stdout",
          "text": [
            "3.14\n",
            "<class 'int'>\n"
          ]
        }
      ]
    },
    {
      "cell_type": "code",
      "source": [
        "bool_example=True  #1 True   0 False\n",
        "print(bool_example)\n",
        "type(bool_example)"
      ],
      "metadata": {
        "colab": {
          "base_uri": "https://localhost:8080/"
        },
        "id": "nYal23CMnmkm",
        "outputId": "56ecc567-30d1-4e42-f479-545a918fa698"
      },
      "execution_count": null,
      "outputs": [
        {
          "output_type": "stream",
          "name": "stdout",
          "text": [
            "True\n"
          ]
        },
        {
          "output_type": "execute_result",
          "data": {
            "text/plain": [
              "bool"
            ]
          },
          "metadata": {},
          "execution_count": 26
        }
      ]
    },
    {
      "cell_type": "code",
      "source": [
        "i_cannot_do_it=False\n",
        "print(i_cannot_do_it)\n",
        "answer=42.01\n",
        "print(answer)"
      ],
      "metadata": {
        "colab": {
          "base_uri": "https://localhost:8080/"
        },
        "id": "ezp9BVAtoDdU",
        "outputId": "8d8e8c24-b673-42d6-bb57-3a64bc16d73b"
      },
      "execution_count": null,
      "outputs": [
        {
          "output_type": "stream",
          "name": "stdout",
          "text": [
            "False\n",
            "42.01\n"
          ]
        }
      ]
    }
  ]
}